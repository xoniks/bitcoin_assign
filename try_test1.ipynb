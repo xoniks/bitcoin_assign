{
 "cells": [
  {
   "cell_type": "code",
   "execution_count": 1,
   "id": "8a4389bd-9f46-4648-a1b0-a22eb387eacc",
   "metadata": {},
   "outputs": [],
   "source": [
    "from bitcoin import *"
   ]
  },
  {
   "cell_type": "code",
   "execution_count": 4,
   "id": "d47d18a9-4de2-4ff5-8ec5-9c461db35270",
   "metadata": {},
   "outputs": [],
   "source": [
    "def btc_add():\n",
    "    private_key = random_key()\n",
    "    add = privkey_to_address(private_key)\n",
    "    return add"
   ]
  },
  {
   "cell_type": "code",
   "execution_count": 6,
   "id": "3140b253-8c1e-42ae-ae60-57d2231f1353",
   "metadata": {},
   "outputs": [
    {
     "data": {
      "text/plain": [
       "'1J6J4EK4LL61Cxxbese8rBsuF112wRsTRR'"
      ]
     },
     "execution_count": 6,
     "metadata": {},
     "output_type": "execute_result"
    }
   ],
   "source": [
    "btc_add()"
   ]
  },
  {
   "cell_type": "code",
   "execution_count": 7,
   "id": "80b62719-88da-4f6b-a485-c4ebffc619a2",
   "metadata": {},
   "outputs": [
    {
     "data": {
      "text/plain": [
       "'15yp1HCfBYvTYkkprxfNC5VMnHyQ2yC7Pa'"
      ]
     },
     "execution_count": 7,
     "metadata": {},
     "output_type": "execute_result"
    }
   ],
   "source": [
    "import cryptos as cp\n",
    "\n",
    "crypto = cp.Bitcoin()\n",
    "priv = cp.sha256('a big long brainwallet password'+str(49))\n",
    "pub = crypto.privtopub(priv)\n",
    "addr = crypto.pubtoaddr(pub)\n",
    "addr"
   ]
  },
  {
   "cell_type": "code",
   "execution_count": 8,
   "id": "6565ff8e-d968-41c6-b5ff-8b21075d999b",
   "metadata": {},
   "outputs": [
    {
     "data": {
      "text/plain": [
       "200"
      ]
     },
     "execution_count": 8,
     "metadata": {},
     "output_type": "execute_result"
    }
   ],
   "source": [
    "import requests\n",
    "\n",
    "r = requests.get('https://www.blockchain.com/btc/address/15yp1HCfBYvTYkkprxfNC5VMnHyQ2yC7Pa')\n",
    "r.status_code"
   ]
  },
  {
   "cell_type": "markdown",
   "id": "aaefaca4-be79-4c46-bbbb-caeb0e3f7a79",
   "metadata": {},
   "source": [
    "Bitcoin mainnet\n",
    "Bitcoin testnet\n",
    "Bitcoin Cash mainnet (with replay protection)\n",
    "Bitcoin Cash testnet (with replay protection)\n",
    "Litecoin mainnet\n",
    "Litecoin testnet\n",
    "Dash mainnet\n",
    "Dash testnet\n",
    "Dogecoin mainnet\n",
    "Bitcoin Gold mainnet (with replay protection)"
   ]
  },
  {
   "cell_type": "code",
   "execution_count": 11,
   "id": "7b6808ae-3165-4f72-9bd6-cec7ddb636ce",
   "metadata": {},
   "outputs": [],
   "source": [
    "import cryptos as cp\n",
    "\n",
    "btc = cp.Bitcoin()\n",
    "bch = cp.BitcoinCash()\n",
    "ltc = cp.Litecoin()\n",
    "dash = cp.Dash()\n",
    "doge = cp.Doge()\n"
   ]
  },
  {
   "cell_type": "code",
   "execution_count": 16,
   "id": "c71cda87-3a3c-4d3d-a2d3-562bdab9a4d8",
   "metadata": {},
   "outputs": [],
   "source": [
    "coin_list = [cp.Bitcoin(),cp.BitcoinCash(),cp.Litecoin(),cp.Dash(),cp.Doge()]\n",
    "acr_coin =['btc/','bch/','ltc/','dash/','doge/']"
   ]
  },
  {
   "cell_type": "code",
   "execution_count": null,
   "id": "0881c041-3a46-45a9-99d1-dcfb82ac0518",
   "metadata": {},
   "outputs": [],
   "source": [
    "> priv = sha256('a big long brainwallet password')\n",
    "> b = Bitcoin()\n",
    "> b.privtoaddr(priv)"
   ]
  },
  {
   "cell_type": "code",
   "execution_count": 19,
   "id": "2f06a0a4-7e36-446b-a724-b7f154b04da8",
   "metadata": {},
   "outputs": [
    {
     "name": "stdout",
     "output_type": "stream",
     "text": [
      "btc/,15yp1HCfBYvTYkkprxfNC5VMnHyQ2yC7Pa,200\n",
      "bch/,15yp1HCfBYvTYkkprxfNC5VMnHyQ2yC7Pa,200\n",
      "ltc/,LQCmGVWVGDAWoZSz36efU6Z7zWLgAnaLSu,404\n",
      "dash/,XffeqXrZ9G93hhMQiqyb3cB9cdZ639KX9u,404\n",
      "doge/,DA7uYY9JUxpk5kwRbYevjqexfRhhRHp3bk,404\n"
     ]
    }
   ],
   "source": [
    "for crpt,acr in zip(coin_list,acr_coin):    \n",
    "    crypto = crpt\n",
    "    priv = cp.sha256('a big long brainwallet password'+str(49))\n",
    "    pub = crypto.privtopub(priv)\n",
    "    addr = crypto.pubtoaddr(pub)\n",
    "    r = requests.get('https://www.blockchain.com/'+acr+'address/'+addr)\n",
    "    st_code = r.status_code\n",
    "    print(f'{acr},{addr},{st_code}')"
   ]
  },
  {
   "cell_type": "code",
   "execution_count": null,
   "id": "c7fb6d4a-1cea-4e35-bcc3-8aa3d45800b3",
   "metadata": {},
   "outputs": [],
   "source": [
    "import requests\n",
    "\n",
    "r = requests.get('https://www.blockchain.com/btc/address/15yp1HCfBYvTYkkprxfNC5VMnHyQ2yC7Pa')\n",
    "r.status_code"
   ]
  }
 ],
 "metadata": {
  "kernelspec": {
   "display_name": "Python 3 (ipykernel)",
   "language": "python",
   "name": "python3"
  },
  "language_info": {
   "codemirror_mode": {
    "name": "ipython",
    "version": 3
   },
   "file_extension": ".py",
   "mimetype": "text/x-python",
   "name": "python",
   "nbconvert_exporter": "python",
   "pygments_lexer": "ipython3",
   "version": "3.9.12"
  }
 },
 "nbformat": 4,
 "nbformat_minor": 5
}

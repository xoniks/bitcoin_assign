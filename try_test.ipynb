{
 "cells": [
  {
   "cell_type": "markdown",
   "id": "744a20f9-04d9-4758-934f-509f872cbb9a",
   "metadata": {},
   "source": [
    "1. https://github.com/primal100/pybitcointools\n",
    "2. https://github.com/tomitokko/bitcoinwallet/blob/1a895a741663732b8b0e460e7967bb48ce40c58a/wallet/views.py#L4\n",
    "3. https://github.com/divanov11/Fast-API-CRUD-App-Live-Stream-Code\n",
    "4. https://web3py.readthedocs.io/en/v5/web3.eth.html\n"
   ]
  },
  {
   "cell_type": "code",
   "execution_count": 1,
   "id": "5dd61e6d-34a9-4297-be02-45eeb96473ee",
   "metadata": {},
   "outputs": [
    {
     "name": "stdout",
     "output_type": "stream",
     "text": [
      "Defaulting to user installation because normal site-packages is not writeable\n",
      "Collecting bitcoin\n",
      "  Using cached bitcoin-1.1.42.tar.gz (36 kB)\n",
      "Building wheels for collected packages: bitcoin\n",
      "  Building wheel for bitcoin (setup.py): started\n",
      "  Building wheel for bitcoin (setup.py): finished with status 'done'\n",
      "  Created wheel for bitcoin: filename=bitcoin-1.1.42-py3-none-any.whl size=44431 sha256=adc1d1e289c4fc646e75492f3a976f2813af043c39ac710edc85c90ca4011835\n",
      "  Stored in directory: c:\\users\\x260\\appdata\\local\\pip\\cache\\wheels\\6e\\ec\\42\\9f41e8477dc909b93cc98d2a65b53f383bedd43ffd710a05d9\n",
      "Successfully built bitcoin\n",
      "Installing collected packages: bitcoin\n",
      "Successfully installed bitcoin-1.1.42\n"
     ]
    }
   ],
   "source": [
    "! pip install bitcoin"
   ]
  },
  {
   "cell_type": "code",
   "execution_count": 2,
   "id": "bacedebb-dc9c-478b-9c4a-7db7f9b1cc78",
   "metadata": {},
   "outputs": [],
   "source": [
    "from bitcoin import *"
   ]
  },
  {
   "cell_type": "code",
   "execution_count": 5,
   "id": "8a5b2e2b-27f5-45c8-9b2a-9bf1da038a1b",
   "metadata": {},
   "outputs": [
    {
     "data": {
      "text/plain": [
       "'46f86a75c7027958d57f434216288250c0204a0563f73e8e1cd3604f82f5e6ff'"
      ]
     },
     "execution_count": 5,
     "metadata": {},
     "output_type": "execute_result"
    }
   ],
   "source": [
    "private_key = random_key()\n",
    "private_key"
   ]
  },
  {
   "cell_type": "code",
   "execution_count": 6,
   "id": "3808f731-e945-4b1d-81e0-c1d6ba94f823",
   "metadata": {},
   "outputs": [
    {
     "data": {
      "text/plain": [
       "'1FXDqHQHzKQk5U45qLxfhxuk2fdaKa1qUD'"
      ]
     },
     "execution_count": 6,
     "metadata": {},
     "output_type": "execute_result"
    }
   ],
   "source": [
    "privkey_to_address(private_key)"
   ]
  },
  {
   "cell_type": "code",
   "execution_count": 7,
   "id": "08b821d3-0889-4496-9200-8dfd2a4c05bc",
   "metadata": {},
   "outputs": [
    {
     "name": "stdout",
     "output_type": "stream",
     "text": [
      "Defaulting to user installation because normal site-packages is not writeable\n",
      "Collecting web3\n",
      "  Downloading web3-5.31.1-py3-none-any.whl (501 kB)\n",
      "Requirement already satisfied: requests<3.0.0,>=2.16.0 in c:\\programdata\\anaconda3\\lib\\site-packages (from web3) (2.27.1)\n",
      "Collecting protobuf==3.19.5\n",
      "  Downloading protobuf-3.19.5-cp39-cp39-win_amd64.whl (895 kB)\n",
      "Collecting eth-utils<2.0.0,>=1.9.5\n",
      "  Downloading eth_utils-1.10.0-py3-none-any.whl (24 kB)\n",
      "Collecting eth-abi<3.0.0,>=2.0.0b6\n",
      "  Downloading eth_abi-2.2.0-py3-none-any.whl (28 kB)\n",
      "Requirement already satisfied: jsonschema<5,>=3.2.0 in c:\\programdata\\anaconda3\\lib\\site-packages (from web3) (4.4.0)\n",
      "Collecting eth-typing<3.0.0,>=2.0.0\n",
      "  Downloading eth_typing-2.3.0-py3-none-any.whl (6.2 kB)\n",
      "Requirement already satisfied: pywin32>=223 in c:\\programdata\\anaconda3\\lib\\site-packages (from web3) (302)"
     ]
    },
    {
     "name": "stderr",
     "output_type": "stream",
     "text": [
      "  WARNING: The script netaddr.exe is installed in 'C:\\Users\\X260\\AppData\\Roaming\\Python\\Python39\\Scripts' which is not on PATH.\n",
      "  Consider adding this directory to PATH or, if you prefer to suppress this warning, use --no-warn-script-location.\n",
      "  WARNING: The script base58.exe is installed in 'C:\\Users\\X260\\AppData\\Roaming\\Python\\Python39\\Scripts' which is not on PATH.\n",
      "  Consider adding this directory to PATH or, if you prefer to suppress this warning, use --no-warn-script-location.\n"
     ]
    },
    {
     "name": "stdout",
     "output_type": "stream",
     "text": [
      "\n",
      "Collecting eth-hash[pycryptodome]<1.0.0,>=0.2.0\n",
      "  Downloading eth_hash-0.5.1-py3-none-any.whl (9.0 kB)\n",
      "Collecting hexbytes<1.0.0,>=0.1.0\n",
      "  Downloading hexbytes-0.3.0-py3-none-any.whl (6.4 kB)\n",
      "Collecting eth-account<0.6.0,>=0.5.9\n",
      "  Downloading eth_account-0.5.9-py3-none-any.whl (101 kB)\n",
      "Collecting eth-rlp<0.3\n",
      "  Downloading eth_rlp-0.2.1-py3-none-any.whl (5.0 kB)\n",
      "Collecting lru-dict<2.0.0,>=1.1.6\n",
      "  Downloading lru_dict-1.1.8-cp39-cp39-win_amd64.whl (12 kB)\n",
      "Collecting websockets<10,>=9.1\n",
      "  Downloading websockets-9.1-cp39-cp39-win_amd64.whl (90 kB)\n",
      "Requirement already satisfied: aiohttp<4,>=3.7.4.post0 in c:\\programdata\\anaconda3\\lib\\site-packages (from web3) (3.8.1)\n",
      "Collecting ipfshttpclient==0.8.0a2\n",
      "  Downloading ipfshttpclient-0.8.0a2-py3-none-any.whl (82 kB)\n",
      "Collecting multiaddr>=0.0.7\n",
      "  Downloading multiaddr-0.0.9-py2.py3-none-any.whl (16 kB)\n",
      "Requirement already satisfied: frozenlist>=1.1.1 in c:\\programdata\\anaconda3\\lib\\site-packages (from aiohttp<4,>=3.7.4.post0->web3) (1.2.0)\n",
      "Requirement already satisfied: attrs>=17.3.0 in c:\\programdata\\anaconda3\\lib\\site-packages (from aiohttp<4,>=3.7.4.post0->web3) (21.4.0)\n",
      "Requirement already satisfied: charset-normalizer<3.0,>=2.0 in c:\\programdata\\anaconda3\\lib\\site-packages (from aiohttp<4,>=3.7.4.post0->web3) (2.0.4)\n",
      "Requirement already satisfied: async-timeout<5.0,>=4.0.0a3 in c:\\programdata\\anaconda3\\lib\\site-packages (from aiohttp<4,>=3.7.4.post0->web3) (4.0.1)\n",
      "Requirement already satisfied: aiosignal>=1.1.2 in c:\\programdata\\anaconda3\\lib\\site-packages (from aiohttp<4,>=3.7.4.post0->web3) (1.2.0)\n",
      "Requirement already satisfied: yarl<2.0,>=1.0 in c:\\programdata\\anaconda3\\lib\\site-packages (from aiohttp<4,>=3.7.4.post0->web3) (1.6.3)\n",
      "Requirement already satisfied: multidict<7.0,>=4.5 in c:\\programdata\\anaconda3\\lib\\site-packages (from aiohttp<4,>=3.7.4.post0->web3) (5.1.0)\n",
      "Requirement already satisfied: typing-extensions>=3.6.5 in c:\\programdata\\anaconda3\\lib\\site-packages (from async-timeout<5.0,>=4.0.0a3->aiohttp<4,>=3.7.4.post0->web3) (4.1.1)\n",
      "Collecting parsimonious<0.9.0,>=0.8.0\n",
      "  Downloading parsimonious-0.8.1.tar.gz (45 kB)\n",
      "Collecting eth-keys<0.4.0,>=0.3.4\n",
      "  Downloading eth_keys-0.3.4-py3-none-any.whl (21 kB)\n",
      "Requirement already satisfied: bitarray<3,>=1.2.1 in c:\\programdata\\anaconda3\\lib\\site-packages (from eth-account<0.6.0,>=0.5.9->web3) (2.4.1)\n",
      "Collecting rlp<3,>=1.0.0\n",
      "  Downloading rlp-2.0.1-py2.py3-none-any.whl (20 kB)\n",
      "Collecting eth-keyfile<0.6.0,>=0.5.0\n",
      "  Downloading eth_keyfile-0.5.1-py3-none-any.whl (8.3 kB)\n",
      "Collecting pycryptodome<4,>=3.6.6\n",
      "  Downloading pycryptodome-3.15.0-cp35-abi3-win_amd64.whl (1.9 MB)\n",
      "Requirement already satisfied: cytoolz<1.0.0,>=0.9.0 in c:\\programdata\\anaconda3\\lib\\site-packages (from eth-keyfile<0.6.0,>=0.5.0->eth-account<0.6.0,>=0.5.9->web3) (0.11.0)\n",
      "Requirement already satisfied: toolz>=0.8.0 in c:\\programdata\\anaconda3\\lib\\site-packages (from cytoolz<1.0.0,>=0.9.0->eth-keyfile<0.6.0,>=0.5.0->eth-account<0.6.0,>=0.5.9->web3) (0.11.2)\n",
      "Collecting eth-utils<2.0.0,>=1.9.5\n",
      "  Downloading eth_utils-1.9.5-py3-none-any.whl (23 kB)\n",
      "Requirement already satisfied: pyrsistent!=0.17.0,!=0.17.1,!=0.17.2,>=0.14.0 in c:\\programdata\\anaconda3\\lib\\site-packages (from jsonschema<5,>=3.2.0->web3) (0.18.0)\n",
      "Collecting base58\n",
      "  Downloading base58-2.1.1-py3-none-any.whl (5.6 kB)\n",
      "Collecting netaddr\n",
      "  Downloading netaddr-0.8.0-py2.py3-none-any.whl (1.9 MB)\n",
      "Requirement already satisfied: six in c:\\programdata\\anaconda3\\lib\\site-packages (from multiaddr>=0.0.7->ipfshttpclient==0.8.0a2->web3) (1.16.0)\n",
      "Collecting varint\n",
      "  Downloading varint-1.0.2.tar.gz (1.9 kB)\n",
      "Requirement already satisfied: urllib3<1.27,>=1.21.1 in c:\\programdata\\anaconda3\\lib\\site-packages (from requests<3.0.0,>=2.16.0->web3) (1.26.9)\n",
      "Requirement already satisfied: idna<4,>=2.5 in c:\\programdata\\anaconda3\\lib\\site-packages (from requests<3.0.0,>=2.16.0->web3) (3.3)\n",
      "Requirement already satisfied: certifi>=2017.4.17 in c:\\programdata\\anaconda3\\lib\\site-packages (from requests<3.0.0,>=2.16.0->web3) (2021.10.8)\n",
      "Building wheels for collected packages: parsimonious, varint\n",
      "  Building wheel for parsimonious (setup.py): started\n",
      "  Building wheel for parsimonious (setup.py): finished with status 'done'\n",
      "  Created wheel for parsimonious: filename=parsimonious-0.8.1-py3-none-any.whl size=42723 sha256=8cb9a8136399ab32fccf3a4858854b5499f528099ae9cc32b5c48c8e1bdc3344\n",
      "  Stored in directory: c:\\users\\x260\\appdata\\local\\pip\\cache\\wheels\\ae\\3f\\87\\24298980f6c0436680b8b64caac154f542e138487ed0f90f2a\n",
      "  Building wheel for varint (setup.py): started\n",
      "  Building wheel for varint (setup.py): finished with status 'done'\n",
      "  Created wheel for varint: filename=varint-1.0.2-py3-none-any.whl size=1979 sha256=5b7c2383d28faf08540828ed502902dcb7dd27d638f88950efd539de62196ec8\n",
      "  Stored in directory: c:\\users\\x260\\appdata\\local\\pip\\cache\\wheels\\4b\\47\\bb\\e4fd5cf6101ed8d6a9c52ff50e37bfb908ffdf330ddbbf9550\n",
      "Successfully built parsimonious varint\n",
      "Installing collected packages: eth-typing, eth-hash, eth-utils, varint, rlp, pycryptodome, parsimonious, netaddr, hexbytes, eth-keys, base58, multiaddr, eth-rlp, eth-keyfile, eth-abi, websockets, protobuf, lru-dict, ipfshttpclient, eth-account, web3\n",
      "Successfully installed base58-2.1.1 eth-abi-2.2.0 eth-account-0.5.9 eth-hash-0.5.1 eth-keyfile-0.5.1 eth-keys-0.3.4 eth-rlp-0.2.1 eth-typing-2.3.0 eth-utils-1.9.5 hexbytes-0.3.0 ipfshttpclient-0.8.0a2 lru-dict-1.1.8 multiaddr-0.0.9 netaddr-0.8.0 parsimonious-0.8.1 protobuf-3.19.5 pycryptodome-3.15.0 rlp-2.0.1 varint-1.0.2 web3-5.31.1 websockets-9.1\n"
     ]
    }
   ],
   "source": [
    "! pip install web3"
   ]
  },
  {
   "cell_type": "code",
   "execution_count": 8,
   "id": "702a7de1-2b7d-4929-b32e-1aff1ca1ed51",
   "metadata": {},
   "outputs": [
    {
     "name": "stdout",
     "output_type": "stream",
     "text": [
      "Defaulting to user installation because normal site-packages is not writeable\n",
      "Collecting cryptos\n",
      "  Downloading cryptos-1.36-py3-none-any.whl (69 kB)\n",
      "Installing collected packages: cryptos\n",
      "Successfully installed cryptos-1.36\n"
     ]
    }
   ],
   "source": [
    "! pip install cryptos"
   ]
  },
  {
   "cell_type": "code",
   "execution_count": 30,
   "id": "1376771c-17db-4d55-9740-75167dd2463d",
   "metadata": {},
   "outputs": [],
   "source": [
    "import cryptos as cp\n",
    "\n",
    "crypto = cp.Bitcoin()\n",
    "priv = cp.sha256('a big long brainwallet password'+str(49))"
   ]
  },
  {
   "cell_type": "code",
   "execution_count": 31,
   "id": "11241686-f8d7-415c-b57c-1d9e065278fd",
   "metadata": {},
   "outputs": [
    {
     "data": {
      "text/plain": [
       "'041e59370821f8fae2b18459fee40e09bf76a09aea99ccf1ae009c48a54b960ad749a99fbd90eaa54f6927f43d3b09cbc720d33d024d2c07b7859dffa88b9bcaf7'"
      ]
     },
     "execution_count": 31,
     "metadata": {},
     "output_type": "execute_result"
    }
   ],
   "source": [
    "pub = crypto.privtopub(priv)\n",
    "pub"
   ]
  },
  {
   "cell_type": "code",
   "execution_count": 32,
   "id": "e342a90e-dcd7-4767-9e7e-48fda007b641",
   "metadata": {},
   "outputs": [
    {
     "data": {
      "text/plain": [
       "'15yp1HCfBYvTYkkprxfNC5VMnHyQ2yC7Pa'"
      ]
     },
     "execution_count": 32,
     "metadata": {},
     "output_type": "execute_result"
    }
   ],
   "source": [
    "addr = crypto.pubtoaddr(pub)\n",
    "addr"
   ]
  },
  {
   "cell_type": "code",
   "execution_count": 25,
   "id": "d7f6d6b1-dd5c-43b7-988d-e47cb3aee948",
   "metadata": {},
   "outputs": [
    {
     "ename": "SyntaxError",
     "evalue": "invalid syntax (4207017186.py, line 1)",
     "output_type": "error",
     "traceback": [
      "\u001b[1;36m  Input \u001b[1;32mIn [25]\u001b[1;36m\u001b[0m\n\u001b[1;33m    > c = Bitcoin(testnet=True)\u001b[0m\n\u001b[1;37m    ^\u001b[0m\n\u001b[1;31mSyntaxError\u001b[0m\u001b[1;31m:\u001b[0m invalid syntax\n"
     ]
    }
   ],
   "source": [
    "> c = Bitcoin(testnet=True)\n",
    "> priv = sha256('a big long brainwallet password'+str(48))\n",
    "> priv\n",
    "'89d8d898b95addf569b458fbbd25620e9c9b19c9f730d5d60102abbabcb72678'\n",
    "> pub = c.privtopub(priv)\n",
    "> pub\n",
    "'041f763d81010db8ba3026fef4ac3dc1ad7ccc2543148041c61a29e883ee4499dc724ab2737afd66e4aacdc0e4f48550cd783c1a73edb3dbd0750e1bd0cb03764f'\n",
    "> addr = c.pubtoaddr(pub)\n",
    "> addr"
   ]
  },
  {
   "cell_type": "code",
   "execution_count": 57,
   "id": "0b22b442-4fab-49bc-a69e-b9d8d1439826",
   "metadata": {},
   "outputs": [
    {
     "name": "stdout",
     "output_type": "stream",
     "text": [
      "0xfe41a2fe69f916e2f32907af0810f78d5f9f917091b75822f30820e51e56823e\n",
      "0xb6A67Ed9D7bB530DaaEb502daeb09894f97020C6\n"
     ]
    }
   ],
   "source": [
    "from eth_account import Account\n",
    "import secrets\n",
    "priv = secrets.token_hex(32)\n",
    "private_key = \"0x\" + priv\n",
    "print(private_key)\n",
    "acc = Account.from_key(private_key)\n",
    "add = acc.address\n",
    "print(add)"
   ]
  },
  {
   "cell_type": "code",
   "execution_count": 64,
   "id": "3f4c8292-4a7d-4afc-87ca-4e478c9e4e53",
   "metadata": {},
   "outputs": [
    {
     "data": {
      "text/plain": [
       "200"
      ]
     },
     "execution_count": 64,
     "metadata": {},
     "output_type": "execute_result"
    }
   ],
   "source": [
    "import requests\n",
    "\n",
    "r = requests.get('https://www.blockchain.com/btc/address/1HoBEQAZLrn7g9RT9qicG4DeTc2ysLkWrd')\n",
    "r.status_code"
   ]
  },
  {
   "cell_type": "code",
   "execution_count": 62,
   "id": "c3979584-4e0b-470e-95ef-6ee3fed4bd66",
   "metadata": {},
   "outputs": [
    {
     "ename": "NameError",
     "evalue": "name 'uppercase' is not defined",
     "output_type": "error",
     "traceback": [
      "\u001b[1;31m---------------------------------------------------------------------------\u001b[0m",
      "\u001b[1;31mNameError\u001b[0m                                 Traceback (most recent call last)",
      "Input \u001b[1;32mIn [62]\u001b[0m, in \u001b[0;36m<cell line: 1>\u001b[1;34m()\u001b[0m\n\u001b[1;32m----> 1\u001b[0m \u001b[43muppercase\u001b[49m(\u001b[38;5;124m'\u001b[39m\u001b[38;5;124mhello\u001b[39m\u001b[38;5;124m'\u001b[39m)\n",
      "\u001b[1;31mNameError\u001b[0m: name 'uppercase' is not defined"
     ]
    }
   ],
   "source": [
    "uppercase('hello')"
   ]
  }
 ],
 "metadata": {
  "kernelspec": {
   "display_name": "Python 3 (ipykernel)",
   "language": "python",
   "name": "python3"
  },
  "language_info": {
   "codemirror_mode": {
    "name": "ipython",
    "version": 3
   },
   "file_extension": ".py",
   "mimetype": "text/x-python",
   "name": "python",
   "nbconvert_exporter": "python",
   "pygments_lexer": "ipython3",
   "version": "3.9.12"
  }
 },
 "nbformat": 4,
 "nbformat_minor": 5
}
